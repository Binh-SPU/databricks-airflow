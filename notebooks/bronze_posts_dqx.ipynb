{
 "cells": [
  {
   "cell_type": "code",
   "execution_count": 0,
   "metadata": {
    "application/vnd.databricks.v1+cell": {
     "cellMetadata": {
      "byteLimit": 2048000,
      "rowLimit": 10000
     },
     "inputWidgets": {},
     "nuid": "a07d67be-331c-491e-9f70-2242e3bd6eb7",
     "showTitle": false,
     "tableResultSettingsMap": {},
     "title": ""
    }
   },
   "outputs": [],
   "source": [
    "%pip install databricks-labs-dqx"
   ]
  },
  {
   "cell_type": "code",
   "execution_count": 0,
   "metadata": {
    "application/vnd.databricks.v1+cell": {
     "cellMetadata": {
      "byteLimit": 2048000,
      "rowLimit": 10000
     },
     "inputWidgets": {},
     "nuid": "2006257c-5199-457f-9821-1fa64cfedde6",
     "showTitle": false,
     "tableResultSettingsMap": {},
     "title": ""
    }
   },
   "outputs": [],
   "source": [
    "dbutils.library.restartPython()"
   ]
  },
  {
   "cell_type": "code",
   "execution_count": 0,
   "metadata": {
    "application/vnd.databricks.v1+cell": {
     "cellMetadata": {
      "byteLimit": 2048000,
      "rowLimit": 10000
     },
     "inputWidgets": {},
     "nuid": "38f655a8-00c5-41ca-87ba-d88467d3198b",
     "showTitle": false,
     "tableResultSettingsMap": {},
     "title": ""
    }
   },
   "outputs": [],
   "source": [
    "raw_posts_df = spark.read.table(\"data_platform_learning.default.raw_posts\")"
   ]
  },
  {
   "cell_type": "code",
   "execution_count": 0,
   "metadata": {
    "application/vnd.databricks.v1+cell": {
     "cellMetadata": {
      "byteLimit": 2048000,
      "rowLimit": 10000
     },
     "inputWidgets": {},
     "nuid": "4620c095-e22a-431a-9809-bdd903e51559",
     "showTitle": false,
     "tableResultSettingsMap": {},
     "title": ""
    }
   },
   "outputs": [],
   "source": [
    "from databricks.labs.dqx import check_funcs\n",
    "from databricks.labs.dqx.engine import DQEngine\n",
    "from databricks.labs.dqx.rule import DQForEachColRule, DQRowRule\n",
    "from databricks.sdk import WorkspaceClient\n",
    "\n",
    "dq_engine = DQEngine(WorkspaceClient())\n",
    "\n",
    "checks = [\n",
    "    *DQForEachColRule(\n",
    "        columns=[\"Id\", \"CreationDate\"],\n",
    "        criticality=\"error\",\n",
    "        check_func=check_funcs.is_not_null,\n",
    "\n",
    "    ).get_rules(),\n",
    "    DQRowRule(\n",
    "        name=\"create_date_not_in_future\",\n",
    "        criticality=\"error\",\n",
    "        check_func=check_funcs.is_not_in_future,\n",
    "        column=\"CreationDate\"\n",
    "    ),\n",
    "    DQRowRule(\n",
    "      name=\"post_type_id_allowe_values\",\n",
    "      criticality=\"error\",\n",
    "      check_func=check_funcs.is_in_list,\n",
    "      column=\"PostTypeId\",\n",
    "      check_func_kwargs={\"allowed\": [\"1\", \"2\", \"3\"]}\n",
    "    )\n",
    "]\n",
    "\n",
    "valid_df, quanrantine_df = dq_engine.apply_checks_and_split(raw_posts_df, checks)"
   ]
  },
  {
   "cell_type": "code",
   "execution_count": 0,
   "metadata": {
    "application/vnd.databricks.v1+cell": {
     "cellMetadata": {},
     "inputWidgets": {},
     "nuid": "07a1f2df-56fd-45a3-a74a-d1142270590a",
     "showTitle": false,
     "tableResultSettingsMap": {},
     "title": ""
    }
   },
   "outputs": [],
   "source": []
  }
 ],
 "metadata": {
  "application/vnd.databricks.v1+notebook": {
   "computePreferences": null,
   "dashboards": [],
   "environmentMetadata": {
    "base_environment": "",
    "environment_version": "3"
   },
   "inputWidgetPreferences": null,
   "language": "python",
   "notebookMetadata": {
    "pythonIndentUnit": 4
   },
   "notebookName": "bronze_posts_dqx",
   "widgets": {}
  },
  "language_info": {
   "name": "python"
  }
 },
 "nbformat": 4,
 "nbformat_minor": 0
}
