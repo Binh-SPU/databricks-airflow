{
 "cells": [
  {
   "cell_type": "code",
   "execution_count": 0,
   "metadata": {
    "application/vnd.databricks.v1+cell": {
     "cellMetadata": {
      "byteLimit": 2048000,
      "rowLimit": 10000
     },
     "inputWidgets": {},
     "nuid": "b4e28e23-abd7-43c5-9e37-cbfedf0d05c6",
     "showTitle": false,
     "tableResultSettingsMap": {},
     "title": ""
    }
   },
   "outputs": [],
   "source": [
    "from pyspark.sql.types import StructType, StructField, StringType, LongType, TimestampType\n",
    "\n",
    "schema = StructType([\n",
    "    StructField(\"_AboutMe\", StringType(), True),\n",
    "    StructField(\"_AccountId\", LongType(), True),\n",
    "    StructField(\"_CreationDate\", TimestampType(), True),\n",
    "    StructField(\"_DisplayName\", StringType(), True),\n",
    "    StructField(\"_DownVotes\", LongType(), True),\n",
    "    StructField(\"_Id\", LongType(), True),\n",
    "    StructField(\"_LastAccessDate\", TimestampType(), True),\n",
    "    StructField(\"_Location\", StringType(), True),\n",
    "    StructField(\"_Reputation\", LongType(), True),\n",
    "    StructField(\"_UpVotes\", LongType(), True),\n",
    "    StructField(\"_Views\", LongType(), True),\n",
    "    StructField(\"_WebsiteUrl\", StringType(), True)\n",
    "])\n",
    "\n",
    "df = (\n",
    "    spark.read.format(\"xml\")\n",
    "    .option(\"rootTag\", \"users\")\n",
    "    .option(\"rowTag\", \"row\")\n",
    "    .schema(schema)\n",
    "    .load(\"/Volumes/data_platform_learning/default/my_volume/Users.xml\")\n",
    ")"
   ]
  },
  {
   "cell_type": "code",
   "execution_count": 0,
   "metadata": {
    "application/vnd.databricks.v1+cell": {
     "cellMetadata": {
      "byteLimit": 2048000,
      "rowLimit": 10000
     },
     "inputWidgets": {},
     "nuid": "b335241e-5fbb-4142-b21c-6e751db57273",
     "showTitle": false,
     "tableResultSettingsMap": {},
     "title": ""
    }
   },
   "outputs": [],
   "source": [
    "new_column_names = [col[1:] for col in df.columns]\n",
    "df = df.toDF(*new_column_names)"
   ]
  },
  {
   "cell_type": "code",
   "execution_count": 0,
   "metadata": {
    "application/vnd.databricks.v1+cell": {
     "cellMetadata": {
      "byteLimit": 2048000,
      "rowLimit": 10000
     },
     "inputWidgets": {},
     "nuid": "96520ad9-0056-4e81-9dcf-5ba2dbd795b4",
     "showTitle": false,
     "tableResultSettingsMap": {},
     "title": ""
    }
   },
   "outputs": [],
   "source": [
    "df.write.mode(\"overwrite\").option(\"overwriteSchema\", \"true\").saveAsTable(\"data_platform_learning.default.raw_users\")"
   ]
  }
 ],
 "metadata": {
  "application/vnd.databricks.v1+notebook": {
   "computePreferences": null,
   "dashboards": [],
   "environmentMetadata": {
    "base_environment": "",
    "environment_version": "3"
   },
   "inputWidgetPreferences": null,
   "language": "python",
   "notebookMetadata": {
    "pythonIndentUnit": 4
   },
   "notebookName": "bronze_users",
   "widgets": {}
  },
  "language_info": {
   "name": "python"
  }
 },
 "nbformat": 4,
 "nbformat_minor": 0
}
