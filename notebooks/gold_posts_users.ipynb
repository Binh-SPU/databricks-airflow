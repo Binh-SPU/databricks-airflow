{
 "cells": [
  {
   "cell_type": "code",
   "execution_count": 0,
   "metadata": {
    "application/vnd.databricks.v1+cell": {
     "cellMetadata": {
      "byteLimit": 2048000,
      "rowLimit": 10000
     },
     "inputWidgets": {},
     "nuid": "dc6b884f-9b4c-4b1c-9c91-0f8f23912d5c",
     "showTitle": false,
     "tableResultSettingsMap": {},
     "title": ""
    }
   },
   "outputs": [],
   "source": [
    "stg_posts_df = spark.table(\"data_platform_learning.default.stg_posts\")\n",
    "raw_users_df = spark.table(\"data_platform_learning.default.raw_users\")"
   ]
  },
  {
   "cell_type": "code",
   "execution_count": 0,
   "metadata": {
    "application/vnd.databricks.v1+cell": {
     "cellMetadata": {
      "byteLimit": 2048000,
      "rowLimit": 10000
     },
     "inputWidgets": {},
     "nuid": "8c7e3340-514f-42e7-a568-8b9df5a48918",
     "showTitle": false,
     "tableResultSettingsMap": {},
     "title": ""
    }
   },
   "outputs": [],
   "source": [
    "from pyspark.sql import DataFrame\n",
    "import pyspark.sql.functions as F\n",
    "\n",
    "def posts_users_OBT(stg_posts_df: DataFrame, raw_users_df: DataFrame) -> DataFrame:\n",
    "  return (\n",
    "      stg_posts_df\n",
    "      .alias(\"posts\")\n",
    "      .withColumnRenamed(\"CreationDate\", \"PostCreationDate\")\n",
    "      .join(\n",
    "          other=raw_users_df.alias(\"users\"),\n",
    "          on=F.col(\"posts.OwnerUserId\") == F.col(\"users.Id\"),\n",
    "          how=\"left\"\n",
    "      )\n",
    "  )\n",
    "\n",
    "marts_ports_user_df = posts_users_OBT(stg_posts_df, raw_users_df)"
   ]
  },
  {
   "cell_type": "code",
   "execution_count": 0,
   "metadata": {
    "application/vnd.databricks.v1+cell": {
     "cellMetadata": {
      "byteLimit": 2048000,
      "rowLimit": 10000
     },
     "inputWidgets": {},
     "nuid": "13c52e84-5ae4-4f7a-9f23-051ae3861e4d",
     "showTitle": false,
     "tableResultSettingsMap": {},
     "title": ""
    }
   },
   "outputs": [],
   "source": [
    "marts_ports_user_df.write.mode(\"overwrite\").saveAsTable(\"data_platform_learning.default.marts_ports_user\")"
   ]
  }
 ],
 "metadata": {
  "application/vnd.databricks.v1+notebook": {
   "computePreferences": null,
   "dashboards": [],
   "environmentMetadata": {
    "base_environment": "",
    "environment_version": "3"
   },
   "inputWidgetPreferences": null,
   "language": "python",
   "notebookMetadata": {
    "pythonIndentUnit": 4
   },
   "notebookName": "gold_posts_users",
   "widgets": {}
  },
  "language_info": {
   "name": "python"
  }
 },
 "nbformat": 4,
 "nbformat_minor": 0
}
