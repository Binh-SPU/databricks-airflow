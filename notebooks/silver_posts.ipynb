{
 "cells": [
  {
   "cell_type": "code",
   "execution_count": 0,
   "metadata": {
    "application/vnd.databricks.v1+cell": {
     "cellMetadata": {
      "byteLimit": 2048000,
      "rowLimit": 10000
     },
     "inputWidgets": {},
     "nuid": "63e3c05e-0348-4427-b157-103a72033389",
     "showTitle": false,
     "tableResultSettingsMap": {},
     "title": ""
    }
   },
   "outputs": [],
   "source": [
    "raw_posts_df = spark.table(\"data_platform_learning.default.raw_posts\")"
   ]
  },
  {
   "cell_type": "code",
   "execution_count": 0,
   "metadata": {
    "application/vnd.databricks.v1+cell": {
     "cellMetadata": {
      "byteLimit": 2048000,
      "rowLimit": 10000
     },
     "inputWidgets": {},
     "nuid": "3c553457-e14c-4e94-991c-d60d351a6c70",
     "showTitle": true,
     "tableResultSettingsMap": {},
     "title": "Declarative Transformations"
    }
   },
   "outputs": [],
   "source": [
    "import pyspark.sql.functions as F\n",
    "from pyspark.sql.types import StructType, StructField, StringType, IntegerType, MapType\n",
    "from pyspark.sql import DataFrame\n",
    "\n",
    "def split_tag_into_array(df: DataFrame) -> DataFrame:\n",
    "    return (\n",
    "        df\n",
    "        .withColumn(\"TagsArray\", F.filter(F.split(F.col(\"tags\"), r'\\|'), lambda x: x != \"\"))\n",
    "        .drop(\"Tags\")\n",
    "    )\n",
    "\n",
    "def rename_columns(df: DataFrame) -> DataFrame:\n",
    "    return (\n",
    "        df.withColumnRenamed(\"Id\", \"PostId\")\n",
    "    )\n",
    "\n",
    "def map_post_type(df: DataFrame) -> DataFrame:\n",
    "    map_data = [\n",
    "    (1, \"Question\"),\n",
    "    (2, \"Answer\"),\n",
    "    (3, \"Orphaned tag wiki\"),\n",
    "    (4, \"Tag wiki excerpt\"),\n",
    "    (5, \"Tag wiki\"),\n",
    "    (6, \"Moderator nomination\"),\n",
    "    (7, \"Wiki placeholder\"),\n",
    "    (8, \"Privilege wiki\"),\n",
    "    (9, \"Article\"),\n",
    "    (10, \"HelpArticle\"),\n",
    "    (12, \"Collection\"),\n",
    "    (13, \"ModeratorQuestionnaireResponse\"),\n",
    "    (14, \"Announcement\"),\n",
    "    (15, \"CollectiveDiscussion\"),\n",
    "    (17, \"CollectiveCollection\")\n",
    "    ]\n",
    "\n",
    "    map_schema = StructType([\n",
    "        StructField(\"PostTypeId\", IntegerType(), False),\n",
    "        StructField(\"PostType\", StringType(), False)\n",
    "    ])\n",
    "\n",
    "    map_df = spark.createDataFrame(map_data, schema=map_schema)\n",
    "\n",
    "    return df.join(\n",
    "        F.broadcast(map_df),\n",
    "        on=\"PostTypeId\",\n",
    "        how=\"left\"\n",
    "    ).drop(map_df[\"PostTypeId\"])\n",
    "    \n",
    "\n",
    "stg_post_df = (\n",
    "    raw_posts_df\n",
    "    .transform(split_tag_into_array)\n",
    "    .transform(rename_columns)\n",
    "    .transform(map_post_type)\n",
    ")"
   ]
  },
  {
   "cell_type": "code",
   "execution_count": 0,
   "metadata": {
    "application/vnd.databricks.v1+cell": {
     "cellMetadata": {
      "byteLimit": 2048000,
      "rowLimit": 10000
     },
     "inputWidgets": {},
     "nuid": "dcabd390-3676-4ce2-a3a5-e95577be168b",
     "showTitle": true,
     "tableResultSettingsMap": {},
     "title": "Incremental Upsert"
    }
   },
   "outputs": [],
   "source": [
    "from delta.tables import DeltaTable\n",
    "import pyspark.sql.functions as F\n",
    "\n",
    "def incremental_upsert(dest_table: str, df: DataFrame, unique_key: str, updated_at: str, full_refresh=False):\n",
    "    \"\"\"\n",
    "    Performs incremental upsert using updated_at as the cursor value with unique_key\n",
    "    Doesn't support deletes, very minimal\n",
    "    \"\"\"\n",
    "\n",
    "    if not spark.catalog.tableExists(dest_table) or full_refresh:\n",
    "        (df\n",
    "         .write\n",
    "         .format(\"delta\")\n",
    "         .mode(\"overwrite\")\n",
    "         .option(\"overwriteSchema\", \"true\")\n",
    "         .saveAsTable(dest_table)\n",
    "        )\n",
    "    else:\n",
    "        last_max = (\n",
    "            spark.table(dest_table)\n",
    "                .agg(F.max(updated_at).alias(\"max_ts\"))\n",
    "                .collect()[0][\"max_ts\"]\n",
    "        )\n",
    "\n",
    "        incr_df = df.filter(F.col(updated_at) > last_max)\n",
    "\n",
    "        if incr_df.limit(1).count() > 0:\n",
    "            delta_table = DeltaTable.forName(spark, dest_table)\n",
    "            (\n",
    "                delta_table.alias(\"t\")\n",
    "                .merge(\n",
    "                    source=incr_df.alias(\"s\"),\n",
    "                    condition=f\"s.{unique_key} = t.{unique_key}\"\n",
    "                )\n",
    "                .whenMatchedUpdateAll()\n",
    "                .whenNotMatchedInsertAll()\n",
    "                .execute()\n",
    "            ) \n",
    "            \n",
    "incremental_upsert(\"data_platform_learning.default.stg_posts\", stg_post_df, \"PostId\", \"CreationDate\")      "
   ]
  },
  {
   "cell_type": "code",
   "execution_count": 0,
   "metadata": {
    "application/vnd.databricks.v1+cell": {
     "cellMetadata": {},
     "inputWidgets": {},
     "nuid": "993a1e14-5a54-49af-b8d4-84274f9fe503",
     "showTitle": false,
     "tableResultSettingsMap": {},
     "title": ""
    }
   },
   "outputs": [],
   "source": []
  }
 ],
 "metadata": {
  "application/vnd.databricks.v1+notebook": {
   "computePreferences": null,
   "dashboards": [],
   "environmentMetadata": {
    "base_environment": "",
    "environment_version": "3"
   },
   "inputWidgetPreferences": null,
   "language": "python",
   "notebookMetadata": {
    "pythonIndentUnit": 4
   },
   "notebookName": "silver_posts",
   "widgets": {}
  },
  "language_info": {
   "name": "python"
  }
 },
 "nbformat": 4,
 "nbformat_minor": 0
}
